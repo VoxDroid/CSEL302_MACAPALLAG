{
  "nbformat": 4,
  "nbformat_minor": 0,
  "metadata": {
    "colab": {
      "provenance": []
    },
    "kernelspec": {
      "name": "python3",
      "display_name": "Python 3"
    },
    "language_info": {
      "name": "python"
    }
  },
  "cells": [
    {
      "cell_type": "markdown",
      "source": [
        "# **Topic 5:** Logistic Regression\n",
        "# **Course Code:** CSEL302 | Introduction to Intelligent Systems\n",
        "# **Student Name:** Mhar Andrei C. Macapallag\n",
        "# **Due Date:** March 13, 2024 | 12:00 PM\n",
        "# **Week No. 6**"
      ],
      "metadata": {
        "id": "23-h8hx5jr7o"
      }
    },
    {
      "cell_type": "code",
      "execution_count": 33,
      "metadata": {
        "cellView": "form",
        "id": "z2C2K49CXDts"
      },
      "outputs": [],
      "source": [
        "#@title 1. Data Preprocessing\n",
        "import numpy as np\n",
        "import pandas as pd\n",
        "from sklearn.model_selection import train_test_split\n",
        "from sklearn.linear_model import LogisticRegression\n",
        "from sklearn.metrics import accuracy_score, confusion_matrix, classification_report, precision_recall_fscore_support\n",
        "from sklearn.preprocessing import StandardScaler\n",
        "\n",
        "dt = pd.read_csv('BankCustomerData.csv')\n",
        "dt.dropna(inplace=True)\n",
        "df_dumb = pd.get_dummies(dt, drop_first=True)\n",
        "df_dumb['subscribed'] = (dt['balance']>50).astype(int)"
      ]
    },
    {
      "cell_type": "code",
      "source": [
        "#@title 2. Feature Selection\n",
        "X = df_dumb.drop(['subscribed'], axis=1)\n",
        "y = df_dumb['subscribed']"
      ],
      "metadata": {
        "cellView": "form",
        "id": "wICjvgnrXx12"
      },
      "execution_count": 34,
      "outputs": []
    },
    {
      "cell_type": "code",
      "source": [
        "#@title 3. Data Splitting\n",
        "X_train, X_test, y_train, y_test = train_test_split(X,y, test_size=0.2, random_state=42)"
      ],
      "metadata": {
        "cellView": "form",
        "id": "YSo8t22RbwBB"
      },
      "execution_count": 35,
      "outputs": []
    },
    {
      "cell_type": "code",
      "source": [
        "#@title 4. Model Training\n",
        "scaler = StandardScaler()\n",
        "\n",
        "numerical_features = ['age', 'balance', 'day', 'duration', 'campaign', 'pdays', 'previous']\n",
        "X_train[numerical_features] = scaler.fit_transform(X_train[numerical_features])\n",
        "X_test[numerical_features] = scaler.transform(X_test[numerical_features])\n",
        "\n",
        "model = LogisticRegression()\n",
        "model.fit(X_train, y_train)"
      ],
      "metadata": {
        "colab": {
          "base_uri": "https://localhost:8080/",
          "height": 214
        },
        "cellView": "form",
        "id": "khEvo4kobyjK",
        "outputId": "a4380833-e547-4f44-de93-324171ce868a"
      },
      "execution_count": 36,
      "outputs": [
        {
          "output_type": "stream",
          "name": "stderr",
          "text": [
            "/usr/local/lib/python3.10/dist-packages/sklearn/linear_model/_logistic.py:458: ConvergenceWarning: lbfgs failed to converge (status=1):\n",
            "STOP: TOTAL NO. of ITERATIONS REACHED LIMIT.\n",
            "\n",
            "Increase the number of iterations (max_iter) or scale the data as shown in:\n",
            "    https://scikit-learn.org/stable/modules/preprocessing.html\n",
            "Please also refer to the documentation for alternative solver options:\n",
            "    https://scikit-learn.org/stable/modules/linear_model.html#logistic-regression\n",
            "  n_iter_i = _check_optimize_result(\n"
          ]
        },
        {
          "output_type": "execute_result",
          "data": {
            "text/plain": [
              "LogisticRegression()"
            ],
            "text/html": [
              "<style>#sk-container-id-4 {color: black;background-color: white;}#sk-container-id-4 pre{padding: 0;}#sk-container-id-4 div.sk-toggleable {background-color: white;}#sk-container-id-4 label.sk-toggleable__label {cursor: pointer;display: block;width: 100%;margin-bottom: 0;padding: 0.3em;box-sizing: border-box;text-align: center;}#sk-container-id-4 label.sk-toggleable__label-arrow:before {content: \"▸\";float: left;margin-right: 0.25em;color: #696969;}#sk-container-id-4 label.sk-toggleable__label-arrow:hover:before {color: black;}#sk-container-id-4 div.sk-estimator:hover label.sk-toggleable__label-arrow:before {color: black;}#sk-container-id-4 div.sk-toggleable__content {max-height: 0;max-width: 0;overflow: hidden;text-align: left;background-color: #f0f8ff;}#sk-container-id-4 div.sk-toggleable__content pre {margin: 0.2em;color: black;border-radius: 0.25em;background-color: #f0f8ff;}#sk-container-id-4 input.sk-toggleable__control:checked~div.sk-toggleable__content {max-height: 200px;max-width: 100%;overflow: auto;}#sk-container-id-4 input.sk-toggleable__control:checked~label.sk-toggleable__label-arrow:before {content: \"▾\";}#sk-container-id-4 div.sk-estimator input.sk-toggleable__control:checked~label.sk-toggleable__label {background-color: #d4ebff;}#sk-container-id-4 div.sk-label input.sk-toggleable__control:checked~label.sk-toggleable__label {background-color: #d4ebff;}#sk-container-id-4 input.sk-hidden--visually {border: 0;clip: rect(1px 1px 1px 1px);clip: rect(1px, 1px, 1px, 1px);height: 1px;margin: -1px;overflow: hidden;padding: 0;position: absolute;width: 1px;}#sk-container-id-4 div.sk-estimator {font-family: monospace;background-color: #f0f8ff;border: 1px dotted black;border-radius: 0.25em;box-sizing: border-box;margin-bottom: 0.5em;}#sk-container-id-4 div.sk-estimator:hover {background-color: #d4ebff;}#sk-container-id-4 div.sk-parallel-item::after {content: \"\";width: 100%;border-bottom: 1px solid gray;flex-grow: 1;}#sk-container-id-4 div.sk-label:hover label.sk-toggleable__label {background-color: #d4ebff;}#sk-container-id-4 div.sk-serial::before {content: \"\";position: absolute;border-left: 1px solid gray;box-sizing: border-box;top: 0;bottom: 0;left: 50%;z-index: 0;}#sk-container-id-4 div.sk-serial {display: flex;flex-direction: column;align-items: center;background-color: white;padding-right: 0.2em;padding-left: 0.2em;position: relative;}#sk-container-id-4 div.sk-item {position: relative;z-index: 1;}#sk-container-id-4 div.sk-parallel {display: flex;align-items: stretch;justify-content: center;background-color: white;position: relative;}#sk-container-id-4 div.sk-item::before, #sk-container-id-4 div.sk-parallel-item::before {content: \"\";position: absolute;border-left: 1px solid gray;box-sizing: border-box;top: 0;bottom: 0;left: 50%;z-index: -1;}#sk-container-id-4 div.sk-parallel-item {display: flex;flex-direction: column;z-index: 1;position: relative;background-color: white;}#sk-container-id-4 div.sk-parallel-item:first-child::after {align-self: flex-end;width: 50%;}#sk-container-id-4 div.sk-parallel-item:last-child::after {align-self: flex-start;width: 50%;}#sk-container-id-4 div.sk-parallel-item:only-child::after {width: 0;}#sk-container-id-4 div.sk-dashed-wrapped {border: 1px dashed gray;margin: 0 0.4em 0.5em 0.4em;box-sizing: border-box;padding-bottom: 0.4em;background-color: white;}#sk-container-id-4 div.sk-label label {font-family: monospace;font-weight: bold;display: inline-block;line-height: 1.2em;}#sk-container-id-4 div.sk-label-container {text-align: center;}#sk-container-id-4 div.sk-container {/* jupyter's `normalize.less` sets `[hidden] { display: none; }` but bootstrap.min.css set `[hidden] { display: none !important; }` so we also need the `!important` here to be able to override the default hidden behavior on the sphinx rendered scikit-learn.org. See: https://github.com/scikit-learn/scikit-learn/issues/21755 */display: inline-block !important;position: relative;}#sk-container-id-4 div.sk-text-repr-fallback {display: none;}</style><div id=\"sk-container-id-4\" class=\"sk-top-container\"><div class=\"sk-text-repr-fallback\"><pre>LogisticRegression()</pre><b>In a Jupyter environment, please rerun this cell to show the HTML representation or trust the notebook. <br />On GitHub, the HTML representation is unable to render, please try loading this page with nbviewer.org.</b></div><div class=\"sk-container\" hidden><div class=\"sk-item\"><div class=\"sk-estimator sk-toggleable\"><input class=\"sk-toggleable__control sk-hidden--visually\" id=\"sk-estimator-id-4\" type=\"checkbox\" checked><label for=\"sk-estimator-id-4\" class=\"sk-toggleable__label sk-toggleable__label-arrow\">LogisticRegression</label><div class=\"sk-toggleable__content\"><pre>LogisticRegression()</pre></div></div></div></div></div>"
            ]
          },
          "metadata": {},
          "execution_count": 36
        }
      ]
    },
    {
      "cell_type": "code",
      "source": [
        "#@title 5. Model Evaluation\n",
        "y_pred = model.predict(X_test)\n",
        "accuracy = accuracy_score(y_test, y_pred)\n",
        "conf_matrix = confusion_matrix(y_test, y_pred)\n",
        "class_report = classification_report(y_test, y_pred)\n",
        "\n",
        "precision_1, recall_1, f1_1, _ = precision_recall_fscore_support(y_test, y_pred, average='binary', pos_label=1)\n",
        "\n",
        "print(f\"\\nAccuracy: \\n{accuracy}\\n\")\n",
        "print(f\"\\nConfusion Matrix: \\n{conf_matrix}\\n\")\n",
        "print(f\"\\nClassification Report: \\n{class_report}\\n\")\n",
        "print(f\"\\nPrecision for class 1: \\n{precision_1}\\n\")\n",
        "print(f\"\\nRecall for class 1: \\n{recall_1}\\n\")\n",
        "print(f\"\\nF1-score for class 1: \\n{f1_1}\\n\")"
      ],
      "metadata": {
        "colab": {
          "base_uri": "https://localhost:8080/"
        },
        "cellView": "form",
        "id": "UOvZ3bz-cAVS",
        "outputId": "d4c41567-ce43-47e0-ef0f-daa19d095c01"
      },
      "execution_count": 41,
      "outputs": [
        {
          "output_type": "stream",
          "name": "stdout",
          "text": [
            "\n",
            "Accuracy: \n",
            "0.9824108818011257\n",
            "\n",
            "\n",
            "Confusion Matrix: \n",
            "[[2037    2]\n",
            " [ 148 6341]]\n",
            "\n",
            "\n",
            "Classification Report: \n",
            "              precision    recall  f1-score   support\n",
            "\n",
            "           0       0.93      1.00      0.96      2039\n",
            "           1       1.00      0.98      0.99      6489\n",
            "\n",
            "    accuracy                           0.98      8528\n",
            "   macro avg       0.97      0.99      0.98      8528\n",
            "weighted avg       0.98      0.98      0.98      8528\n",
            "\n",
            "\n",
            "\n",
            "Precision for class 1: \n",
            "0.999684691786221\n",
            "\n",
            "\n",
            "Recall for class 1: \n",
            "0.9771921713669286\n",
            "\n",
            "\n",
            "F1-score for class 1: \n",
            "0.9883104738154612\n",
            "\n"
          ]
        }
      ]
    },
    {
      "cell_type": "code",
      "source": [
        "#@title 6. Conclusion\n",
        "#@markdown 6. Conclusion:\n",
        "#@markdown ### The logistic regression model achieved high-to-perfection accuracy, precision, recall, and F1-score on the test set, indicating its effectiveness in predicting term deposit subscriptions.\n",
        "#@markdown - Insights:\n",
        "#@markdown  - Since I made some work arounds like including all numerical features, the model has a high precision which is almost perfect (positive predictive value), which means that when it predicts a customer will subscribe to a term deposit, it is always correct.\n",
        "#@markdown  - Though, this is just something I've almost seen immediately, the recall (sensitivity) is also high, indicating that the model captures a large proportion of actual term deposit subscriptions.\n",
        "#@markdown - Implications for the bank's marketing strategies:\n",
        "#@markdown  - I think, I guess that the bank can use the model to identify potential customers who are likely to subscribe to term deposits.\n",
        "#@markdown  - Also, targeted marketing efforts can be directed towards the identified customer segments, well, I think with that way, it can pretty much improve the efficiency of marketing campaigns."
      ],
      "metadata": {
        "cellView": "form",
        "id": "KFwvpkG_cpWy"
      },
      "execution_count": 42,
      "outputs": []
    }
  ]
}